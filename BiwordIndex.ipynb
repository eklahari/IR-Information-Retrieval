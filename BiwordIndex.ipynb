{
  "cells": [
    {
      "cell_type": "markdown",
      "metadata": {
        "id": "view-in-github",
        "colab_type": "text"
      },
      "source": [
        "<a href=\"https://colab.research.google.com/github/eklahari/IR-Information-Retrieval/blob/main/BiwordIndex.ipynb\" target=\"_parent\"><img src=\"https://colab.research.google.com/assets/colab-badge.svg\" alt=\"Open In Colab\"/></a>"
      ]
    },
    {
      "cell_type": "markdown",
      "source": [
        "**Biword-Index**"
      ],
      "metadata": {
        "id": "SB5vFvNIzRt9"
      }
    },
    {
      "cell_type": "code",
      "source": [
        "import string\n",
        "\n",
        "def build_term_index(documents):\n",
        "    term_index = {}\n",
        "    for doc_id, doc in enumerate(documents, start=1):\n",
        "        doc = doc.lower()\n",
        "        doc = ''.join([char for char in doc if char not in string.punctuation])\n",
        "        terms = doc.split()\n",
        "        for position, term in enumerate(terms, start=1):\n",
        "            if term in term_index:\n",
        "                term_index[term].append((doc_id, position))\n",
        "            else:\n",
        "                term_index[term] = [(doc_id, position)]\n",
        "    return term_index\n",
        "\n",
        "def process_complex_phrase_query(query, term_index, max_gap=0):\n",
        "    query = query.lower()\n",
        "    query_terms = query.split()\n",
        "    results = set()\n",
        "\n",
        "    first_term = query_terms[0]\n",
        "    if first_term in term_index:\n",
        "        candidates = set([doc_id for doc_id, _ in term_index[first_term]])\n",
        "    else:\n",
        "        return []\n",
        "\n",
        "    for term in query_terms[1:]:\n",
        "        if term in term_index:\n",
        "            current_results = set()\n",
        "\n",
        "            for doc_id in candidates:\n",
        "                positions = [pos for doc, pos in term_index[term] if doc == doc_id]\n",
        "                prev_positions = [pos - 1 for doc, pos in term_index[query_terms[query_terms.index(term) - 1]] if doc == doc_id]\n",
        "\n",
        "                if any(abs(prev - pos) <= max_gap for prev in prev_positions for pos in positions):\n",
        "                    current_results.add(doc_id)\n",
        "\n",
        "            results = current_results\n",
        "\n",
        "    return list(results)\n",
        "\n",
        "documents = [\n",
        "    \"this is a sample document. it contains sample text for testing.\",\n",
        "    \"sample text for testing.\",\n",
        "    \"another sample document for demonstration.\"\n",
        "]\n",
        "\n",
        "term_index = build_term_index(documents)\n",
        "\n",
        "query = \"contains sample \"\n",
        "results = process_complex_phrase_query(query, term_index, max_gap=2)\n",
        "\n",
        "if results:\n",
        "    print(f\"Documents containing the complex phrase '{query}': {results}\")\n",
        "else:\n",
        "    print(f\"No documents found for the complex phrase '{query}'.\")\n"
      ],
      "metadata": {
        "colab": {
          "base_uri": "https://localhost:8080/"
        },
        "id": "x81iZcmr1hjg",
        "outputId": "dd67721f-d45d-44d9-fa14-8f65df9bffe0"
      },
      "execution_count": 43,
      "outputs": [
        {
          "output_type": "stream",
          "name": "stdout",
          "text": [
            "Documents containing the complex phrase 'contains sample ': [1]\n"
          ]
        }
      ]
    }
  ],
  "metadata": {
    "colab": {
      "provenance": [],
      "authorship_tag": "ABX9TyM9n+Z9rgRaGWJXZD20g/W0",
      "include_colab_link": true
    },
    "kernelspec": {
      "display_name": "Python 3",
      "name": "python3"
    },
    "language_info": {
      "name": "python"
    }
  },
  "nbformat": 4,
  "nbformat_minor": 0
}